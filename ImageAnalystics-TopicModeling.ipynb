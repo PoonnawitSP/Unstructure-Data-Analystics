{
 "cells": [
  {
   "cell_type": "markdown",
   "metadata": {},
   "source": [
    "<h1>Image Analytics + Topic Modelling (LDA)</h1>"
   ]
  },
  {
   "cell_type": "markdown",
   "metadata": {},
   "source": [
    "<h2>Scrape data from @thailand account on instagram </h2>"
   ]
  },
  {
   "cell_type": "code",
   "execution_count": 61,
   "metadata": {},
   "outputs": [
    {
     "name": "stdout",
     "output_type": "stream",
     "text": [
      "<Profile thailand (1780827587)>\n"
     ]
    }
   ],
   "source": [
    "import instaloader\n",
    "import pandas as pd\n",
    "\n",
    "# Initialize an Instaloader instance\n",
    "L = instaloader.Instaloader()\n",
    "\n",
    "# Target Instagram profile (replace 'username' with the target username)\n",
    "profile = instaloader.Profile.from_username(L.context, 'thailand')\n",
    "print(profile)\n",
    "count = 0\n",
    "\n",
    "url_list = []\n",
    "post_list = []\n",
    "like_list = []\n",
    "caption_list = []\n",
    "\n",
    "for post in profile.get_posts():\n",
    "    post_url = post.url\n",
    "    post_type = post.typename  # Type of the post (e.g., 'GraphImage', 'GraphVideo', 'GraphSidecar')\n",
    "    num_pictures = len(list(post.get_sidecar_nodes()))  # Number of pictures in a post (works for multiple-image posts)\n",
    "    num_likes = post.likes\n",
    "    str_caption = post.caption \n",
    "\n",
    "    url_list.append(post_url)\n",
    "    post_list.append(post_type)\n",
    "    like_list.append(num_likes)\n",
    "    caption_list.append(str_caption)\n",
    "\n",
    "    #print(\"Post URL:\", post_url)\n",
    "    #print(\"Post Type:\", post_type)\n",
    "    #print(\"Like:\", num_likes)\n",
    "    #print(\"Caption:\", str_caption)\n",
    "    #print(\"\\n\")\n",
    "\n",
    "    if count < 550:\n",
    "        if post_type == 'GraphImage' or post_type == 'GraphSidecar':\n",
    "            count += 1\n",
    "        else:\n",
    "            count = count\n",
    "    else: \n",
    "        break\n",
    "print(count)"
   ]
  },
  {
   "cell_type": "code",
   "execution_count": 62,
   "metadata": {},
   "outputs": [],
   "source": [
    "instagram_data = pd.DataFrame()\n",
    "instagram_data['image_url'] =  url_list\n",
    "instagram_data['post_type'] =  post_list\n",
    "instagram_data['like'] =  like_list\n",
    "instagram_data['caption'] =  caption_list\n",
    "instagram_data.to_csv(\"postURL.csv\", index= False)"
   ]
  },
  {
   "cell_type": "markdown",
   "metadata": {},
   "source": [
    "<h2>Analyze images with Google Vision API</h2>"
   ]
  },
  {
   "cell_type": "code",
   "execution_count": null,
   "metadata": {},
   "outputs": [],
   "source": [
    "from google.cloud import vision_v1 as vision\n",
    "\n",
    "import os\n",
    "import pandas as pd\n",
    "\n",
    "#Add Credential File (.json)\n",
    "Application_Credentials = \"\" \n",
    "os.environ['GOOGLE_APPLICATION_CREDENTIALS'] = Application_Credentials\n",
    "client = vision.ImageAnnotatorClient()\n",
    "image = vision.Image()\n",
    "\n",
    "def detect_labels_uri(uri):\n",
    "    \"\"\"Detects labels in the file located in Google Cloud Storage or on the Web.\"\"\"\n",
    "    image.source.image_uri = uri\n",
    "\n",
    "    response = client.label_detection(image=image)\n",
    "    labels = response.label_annotations\n",
    "    #print(\"Labels:\")\n",
    "\n",
    "    label_list = [] \n",
    "\n",
    "    for label in labels:\n",
    "        #print(label.description)\n",
    "        label_list.append(label.description)\n",
    "\n",
    "    #print(' '.join(label_list))\n",
    "\n",
    "    return label_list\n",
    "\n",
    "df = pd.read_csv(\"postURL.csv\")\n",
    "label_column = []\n",
    "\n",
    "for index, row in df.iterrows():\n",
    "    #print(index)\n",
    "    results = detect_labels_uri(row['image_url'])\n",
    "    label_column.append(results)\n",
    "\n",
    "df['label'] = label_column\n",
    "df.to_csv(\"image_label.csv\", index= False)"
   ]
  },
  {
   "cell_type": "markdown",
   "metadata": {},
   "source": [
    "<h2>Clean Data</h2>\n",
    "and create engagement column (high-low) based on number of like"
   ]
  },
  {
   "cell_type": "code",
   "execution_count": 64,
   "metadata": {},
   "outputs": [
    {
     "name": "stdout",
     "output_type": "stream",
     "text": [
      "                                           image_url     post_type    like  \\\n",
      "0  https://scontent-dfw5-1.cdninstagram.com/v/t51...  GraphSidecar  514160   \n",
      "1  https://scontent-dfw5-2.cdninstagram.com/v/t51...  GraphSidecar   96360   \n",
      "2  https://scontent-dfw5-1.cdninstagram.com/v/t51...    GraphImage   74962   \n",
      "\n",
      "                                             caption  \\\n",
      "0  WE HAVE ALWAYS HELD TO THE HOPE, THE BELIEF, T...   \n",
      "1  Realize deeply that the present moment is all ...   \n",
      "2  Paradise is where I am. When will you begin th...   \n",
      "\n",
      "                                               label  \n",
      "0  ['Sky', 'Water', 'Boat', 'Building', 'Cloud', ...  \n",
      "1  ['Cloud', 'Sky', 'Building', 'Car', 'Daytime',...  \n",
      "2  ['Water', 'Sky', 'Mountain', 'Ecoregion', 'Mam...  \n",
      "rows:  542\n",
      "rows:  542\n",
      "rows:  539\n",
      "(539, 6)\n",
      "                                           image_url     post_type    like  \\\n",
      "0  https://scontent-dfw5-1.cdninstagram.com/v/t51...  GraphSidecar  514160   \n",
      "1  https://scontent-dfw5-2.cdninstagram.com/v/t51...  GraphSidecar   96360   \n",
      "2  https://scontent-dfw5-1.cdninstagram.com/v/t51...    GraphImage   74962   \n",
      "\n",
      "                                             caption  \\\n",
      "0  WE HAVE ALWAYS HELD TO THE HOPE, THE BELIEF, T...   \n",
      "1  Realize deeply that the present moment is all ...   \n",
      "2  Paradise is where I am. When will you begin th...   \n",
      "\n",
      "                                               label  engagement  \n",
      "0  ['Sky', 'Water', 'Boat', 'Building', 'Cloud', ...           1  \n",
      "1  ['Cloud', 'Sky', 'Building', 'Car', 'Daytime',...           1  \n",
      "2  ['Water', 'Sky', 'Mountain', 'Ecoregion', 'Mam...           1  \n"
     ]
    }
   ],
   "source": [
    "import pandas as pd\n",
    "\n",
    "#read files\n",
    "df = pd.read_csv(\"image_label.csv\")\n",
    "print(df.head(3))\n",
    "print(\"rows: \", len(df))\n",
    "\n",
    "#Drop no number of likes \n",
    "df = df[df['like'] != -1]\n",
    "print(\"rows: \", len(df))\n",
    "\n",
    "#Drop no label rows\n",
    "df = df[df['label'] != \"[]\"]\n",
    "print(\"rows: \", len(df))\n",
    "#df.to_csv(\"check.csv\")\n",
    "\n",
    "#Threshold - Median Value\n",
    "#Posts that have more than median values of Likes wil be label to 1\n",
    "#otherwise 0\n",
    "median_value = df['like'].median()\n",
    "#print(median_value)\n",
    "df['engagement'] = df['like'].apply(lambda x: 1 if x > median_value else 0)\n",
    "print(df.shape)\n",
    "print(df.head(3))\n"
   ]
  },
  {
   "cell_type": "markdown",
   "metadata": {},
   "source": [
    "<h2>Using Image Labels and Caption to predict high-low engagement</h2>"
   ]
  },
  {
   "cell_type": "markdown",
   "metadata": {},
   "source": [
    "<h3>Part 1: Label</h3>"
   ]
  },
  {
   "cell_type": "code",
   "execution_count": 2,
   "metadata": {},
   "outputs": [
    {
     "name": "stdout",
     "output_type": "stream",
     "text": [
      "     adaptation  african  afterglow  agriculture  algae  amber    animal  \\\n",
      "0           0.0      0.0   0.000000          0.0    0.0    0.0  0.000000   \n",
      "1           0.0      0.0   0.000000          0.0    0.0    0.0  0.000000   \n",
      "2           0.0      0.0   0.000000          0.0    0.0    0.0  0.345095   \n",
      "3           0.0      0.0   0.000000          0.0    0.0    0.0  0.000000   \n",
      "4           0.0      0.0   0.000000          0.0    0.0    0.0  0.000000   \n",
      "..          ...      ...        ...          ...    ...    ...       ...   \n",
      "534         0.0      0.0   0.316672          0.0    0.0    0.0  0.000000   \n",
      "535         0.0      0.0   0.000000          0.0    0.0    0.0  0.000000   \n",
      "536         0.0      0.0   0.000000          0.0    0.0    0.0  0.000000   \n",
      "537         0.0      0.0   0.331162          0.0    0.0    0.0  0.000000   \n",
      "538         0.0      0.0   0.000000          0.0    0.0    0.0  0.000000   \n",
      "\n",
      "     aqua  archaeological  architecture  ...  wheel  white  wind  window  \\\n",
      "0     0.0             0.0           0.0  ...    0.0    0.0   0.0     0.0   \n",
      "1     0.0             0.0           0.0  ...    0.0    0.0   0.0     0.0   \n",
      "2     0.0             0.0           0.0  ...    0.0    0.0   0.0     0.0   \n",
      "3     0.0             0.0           0.0  ...    0.0    0.0   0.0     0.0   \n",
      "4     0.0             0.0           0.0  ...    0.0    0.0   0.0     0.0   \n",
      "..    ...             ...           ...  ...    ...    ...   ...     ...   \n",
      "534   0.0             0.0           0.0  ...    0.0    0.0   0.0     0.0   \n",
      "535   0.0             0.0           0.0  ...    0.0    0.0   0.0     0.0   \n",
      "536   0.0             0.0           0.0  ...    0.0    0.0   0.0     0.0   \n",
      "537   0.0             0.0           0.0  ...    0.0    0.0   0.0     0.0   \n",
      "538   0.0             0.0           0.0  ...    0.0    0.0   0.0     0.0   \n",
      "\n",
      "     wood  woody   working    world  worship    yellow  \n",
      "0     0.0    0.0  0.000000  0.37808      0.0  0.000000  \n",
      "1     0.0    0.0  0.000000  0.00000      0.0  0.000000  \n",
      "2     0.0    0.0  0.360123  0.00000      0.0  0.000000  \n",
      "3     0.0    0.0  0.000000  0.37808      0.0  0.000000  \n",
      "4     0.0    0.0  0.000000  0.00000      0.0  0.000000  \n",
      "..    ...    ...       ...      ...      ...       ...  \n",
      "534   0.0    0.0  0.000000  0.00000      0.0  0.000000  \n",
      "535   0.0    0.0  0.000000  0.00000      0.0  0.000000  \n",
      "536   0.0    0.0  0.000000  0.00000      0.0  0.364999  \n",
      "537   0.0    0.0  0.000000  0.00000      0.0  0.000000  \n",
      "538   0.0    0.0  0.000000  0.00000      0.0  0.000000  \n",
      "\n",
      "[539 rows x 297 columns]\n"
     ]
    }
   ],
   "source": [
    "import ast\n",
    "from sklearn.feature_extraction.text import TfidfVectorizer\n",
    "import pandas as pd\n",
    "\n",
    "#prepare text_documents\n",
    "text_documents = []\n",
    "for label in df['label']:\n",
    "    concatenated_text = \" \".join(ast.literal_eval(label))\n",
    "    text_documents.append(concatenated_text)\n",
    "\n",
    "#create TF-IDF matrix\n",
    "#print(text_documents)\n",
    "select_stopwords = [\"of\", \"and\"]\n",
    "tfidf_vectorizer = TfidfVectorizer(stop_words=select_stopwords)\n",
    "tfidf_matrix = tfidf_vectorizer.fit_transform(text_documents)\n",
    "tfidf_array = tfidf_matrix.toarray()\n",
    "terms = tfidf_vectorizer.get_feature_names_out()\n",
    "\n",
    "# Create a DataFrame\n",
    "df_label_tfidf = pd.DataFrame(tfidf_array, columns=terms)\n",
    "\n",
    "# Display the DataFrame\n",
    "#df_label_tfidf['Y'] = df['engagement']\n",
    "#df_label_tfidf.to_csv(\"label.csv\")\n",
    "print(df_label_tfidf)"
   ]
  },
  {
   "cell_type": "code",
   "execution_count": 3,
   "metadata": {},
   "outputs": [
    {
     "name": "stdout",
     "output_type": "stream",
     "text": [
      "(539, 100)\n"
     ]
    }
   ],
   "source": [
    "#feature selection\n",
    "from sklearn.feature_selection import SelectKBest, chi2\n",
    "\n",
    "# Select the top 100 features based on chi-squared score\n",
    "df_label_tfidf.fillna(0, inplace=True)\n",
    "k = 100\n",
    "tfidf_matrix_selected = SelectKBest(chi2, k=k).fit_transform(df_label_tfidf , df['engagement'].to_list())\n",
    "print(tfidf_matrix_selected.shape)"
   ]
  },
  {
   "cell_type": "code",
   "execution_count": 4,
   "metadata": {},
   "outputs": [
    {
     "name": "stdout",
     "output_type": "stream",
     "text": [
      "    Column_name   P-value\n",
      "17   atmosphere  0.003306\n",
      "21        azure  0.023746\n",
      "93       flower  0.044280\n",
      "2     afterglow  0.069438\n",
      "12          art  0.081926\n",
      "..          ...       ...\n",
      "257   thatching  0.461442\n",
      "286        wave  0.461465\n",
      "289        wind  0.461465\n",
      "288       white  0.464057\n",
      "22         bank  0.466615\n",
      "\n",
      "[100 rows x 2 columns]\n"
     ]
    }
   ],
   "source": [
    "# Importance of each word\n",
    "test = SelectKBest(score_func=chi2, k=k)\n",
    "fit = test.fit(df_label_tfidf , df['engagement'].to_list())\n",
    "#print(fit.pvalues_.shape)\n",
    "\n",
    "df_column_score = pd.DataFrame({'Column_name': df_label_tfidf.columns, 'P-value': fit.pvalues_})\n",
    "# P-value of each word\n",
    "print(df_column_score.sort_values(by='P-value',ascending = True).head(100))"
   ]
  },
  {
   "cell_type": "code",
   "execution_count": 9,
   "metadata": {},
   "outputs": [
    {
     "name": "stdout",
     "output_type": "stream",
     "text": [
      "Confusion Matrix:\n",
      "[[32 18]\n",
      " [28 30]]\n",
      "\n",
      "Accuracy: 0.5740740740740741\n"
     ]
    }
   ],
   "source": [
    "#Logistic Regrssion\n",
    "from sklearn.model_selection import train_test_split\n",
    "from sklearn.linear_model import LogisticRegression\n",
    "from sklearn.metrics import confusion_matrix, accuracy_score\n",
    "\n",
    "X_train, X_test, y_train, y_test = train_test_split(tfidf_matrix_selected, df['engagement'].to_list(), test_size=0.2, random_state=42)\n",
    "\n",
    "model = LogisticRegression()\n",
    "model.fit(X_train, y_train)\n",
    "y_pred = model.predict(X_test)\n",
    "\n",
    "# Confusion matrix\n",
    "conf_matrix = confusion_matrix(y_test, y_pred)\n",
    "print(\"Confusion Matrix:\")\n",
    "print(conf_matrix)\n",
    "\n",
    "# Accuracy\n",
    "accuracy = accuracy_score(y_test, y_pred)\n",
    "print(\"\\nAccuracy:\", accuracy)"
   ]
  },
  {
   "cell_type": "markdown",
   "metadata": {},
   "source": [
    "<h3>Part 2: Caption</h3>"
   ]
  },
  {
   "cell_type": "code",
   "execution_count": 10,
   "metadata": {},
   "outputs": [
    {
     "name": "stderr",
     "output_type": "stream",
     "text": [
      "[nltk_data] Downloading package stopwords to\n",
      "[nltk_data]     C:\\Users\\Poonnawit\\AppData\\Roaming\\nltk_data...\n",
      "[nltk_data]   Package stopwords is already up-to-date!\n"
     ]
    },
    {
     "name": "stdout",
     "output_type": "stream",
     "text": [
      "     007   10   19  199s  1pae  1puinun  2022      2023   26  2ontours  ...  \\\n",
      "0    0.0  0.0  0.0   0.0   0.0      0.0   0.0  0.305949  0.0       0.0  ...   \n",
      "1    0.0  0.0  0.0   0.0   0.0      0.0   0.0  0.000000  0.0       0.0  ...   \n",
      "2    0.0  0.0  0.0   0.0   0.0      0.0   0.0  0.000000  0.0       0.0  ...   \n",
      "3    0.0  0.0  0.0   0.0   0.0      0.0   0.0  0.000000  0.0       0.0  ...   \n",
      "4    0.0  0.0  0.0   0.0   0.0      0.0   0.0  0.000000  0.0       0.0  ...   \n",
      "..   ...  ...  ...   ...   ...      ...   ...       ...  ...       ...  ...   \n",
      "534  0.0  0.0  0.0   0.0   0.0      0.0   0.0  0.000000  0.0       0.0  ...   \n",
      "535  0.0  0.0  0.0   0.0   0.0      0.0   0.0  0.000000  0.0       0.0  ...   \n",
      "536  0.0  0.0  0.0   0.0   0.0      0.0   0.0  0.000000  0.0       0.0  ...   \n",
      "537  0.0  0.0  0.0   0.0   0.0      0.0   0.0  0.000000  0.0       0.0  ...   \n",
      "538  0.0  0.0  0.0   0.0   0.0      0.0   0.0  0.000000  0.0       0.0  ...   \n",
      "\n",
      "     ยวเม  ยวไทยเท  องไทยทางig  องไทยสวยท  องไทยไม   เช   เท   เม  ไปไม   ⁰⁴  \n",
      "0     0.0      0.0         0.0        0.0      0.0  0.0  0.0  0.0   0.0  0.0  \n",
      "1     0.0      0.0         0.0        0.0      0.0  0.0  0.0  0.0   0.0  0.0  \n",
      "2     0.0      0.0         0.0        0.0      0.0  0.0  0.0  0.0   0.0  0.0  \n",
      "3     0.0      0.0         0.0        0.0      0.0  0.0  0.0  0.0   0.0  0.0  \n",
      "4     0.0      0.0         0.0        0.0      0.0  0.0  0.0  0.0   0.0  0.0  \n",
      "..    ...      ...         ...        ...      ...  ...  ...  ...   ...  ...  \n",
      "534   0.0      0.0         0.0        0.0      0.0  0.0  0.0  0.0   0.0  0.0  \n",
      "535   0.0      0.0         0.0        0.0      0.0  0.0  0.0  0.0   0.0  0.0  \n",
      "536   0.0      0.0         0.0        0.0      0.0  0.0  0.0  0.0   0.0  0.0  \n",
      "537   0.0      0.0         0.0        0.0      0.0  0.0  0.0  0.0   0.0  0.0  \n",
      "538   0.0      0.0         0.0        0.0      0.0  0.0  0.0  0.0   0.0  0.0  \n",
      "\n",
      "[539 rows x 1754 columns]\n"
     ]
    }
   ],
   "source": [
    "import nltk\n",
    "from nltk.corpus import stopwords\n",
    "\n",
    "nltk.download('stopwords')\n",
    "stop_words = set(stopwords.words('english'))\n",
    "\n",
    "def clean_text(text):\n",
    "    # Tokenization and lowercase conversion\n",
    "    tokens = nltk.word_tokenize(text.lower())\n",
    "    # Remove punctuation and stopwords\n",
    "    cleaned_tokens = [token for token in tokens if token not in stop_words]\n",
    "    # Rejoin tokens into a clean text string\n",
    "    cleaned_text = \" \".join(cleaned_tokens)\n",
    "    \n",
    "    return cleaned_text\n",
    "\n",
    "\n",
    "#prepare text_documents\n",
    "\n",
    "text_documents = [clean_text(document) for document in df['caption']]\n",
    "\n",
    "#create TF-IDF matrix\n",
    "#print(text_documents)\n",
    "\n",
    "tfidf_vectorizer = TfidfVectorizer()\n",
    "tfidf_matrix = tfidf_vectorizer.fit_transform(text_documents)\n",
    "tfidf_array = tfidf_matrix.toarray()\n",
    "terms = tfidf_vectorizer.get_feature_names_out()\n",
    "\n",
    "# Create a DataFrame\n",
    "df_caption_tfidf = pd.DataFrame(tfidf_array, columns=terms)\n",
    "# Display the DataFrame\n",
    "#df_caption_tfidf['Y'] = df['engagement']\n",
    "#df_caption_tfidf.to_csv(\"caption.csv\")\n",
    "print(df_caption_tfidf)"
   ]
  },
  {
   "cell_type": "code",
   "execution_count": 11,
   "metadata": {},
   "outputs": [
    {
     "name": "stdout",
     "output_type": "stream",
     "text": [
      "(539, 100)\n"
     ]
    }
   ],
   "source": [
    "#feature selection\n",
    "\n",
    "from sklearn.feature_selection import SelectKBest, chi2\n",
    "\n",
    "# Select the top 100 features based on chi-squared score\n",
    "df_caption_tfidf.fillna(0, inplace=True)\n",
    "k = 100\n",
    "tfidf_matrix_selected2 = SelectKBest(chi2, k=k).fit_transform(df_caption_tfidf , df['engagement'].to_list())\n",
    "print(tfidf_matrix_selected.shape)"
   ]
  },
  {
   "cell_type": "code",
   "execution_count": 12,
   "metadata": {},
   "outputs": [
    {
     "name": "stdout",
     "output_type": "stream",
     "text": [
      "        Column_name   P-value\n",
      "757           krabi  0.013938\n",
      "759   krabithailand  0.049988\n",
      "1223         railay  0.092785\n",
      "1445        sunrise  0.104103\n",
      "721    kohlaolading  0.106165\n",
      "...             ...       ...\n",
      "483           found  0.392118\n",
      "439          family  0.392275\n",
      "1630            use  0.392295\n",
      "60    alysha_huxley  0.392803\n",
      "365     dodgerjones  0.393716\n",
      "\n",
      "[100 rows x 2 columns]\n"
     ]
    }
   ],
   "source": [
    "# Importance of each word\n",
    "test = SelectKBest(score_func=chi2, k=k)\n",
    "fit = test.fit(df_caption_tfidf , df['engagement'])\n",
    "#print(fit.pvalues_.shape)\n",
    "\n",
    "df_column_score = pd.DataFrame({'Column_name': df_caption_tfidf.columns, 'P-value': fit.pvalues_})\n",
    "# P-value of each word\n",
    "print(df_column_score.sort_values(by='P-value',ascending = True).head(100))"
   ]
  },
  {
   "cell_type": "code",
   "execution_count": 13,
   "metadata": {},
   "outputs": [
    {
     "name": "stdout",
     "output_type": "stream",
     "text": [
      "Confusion Matrix:\n",
      "[[39 11]\n",
      " [28 30]]\n",
      "\n",
      "Accuracy: 0.6388888888888888\n"
     ]
    }
   ],
   "source": [
    "#Logistic Regrssion\n",
    "from sklearn.model_selection import train_test_split\n",
    "from sklearn.linear_model import LogisticRegression\n",
    "from sklearn.metrics import confusion_matrix, accuracy_score\n",
    "\n",
    "X_train, X_test, y_train, y_test = train_test_split(tfidf_matrix_selected2, df['engagement'].to_list(), test_size=0.2, random_state=42)\n",
    "\n",
    "model = LogisticRegression()\n",
    "model.fit(X_train, y_train)\n",
    "y_pred = model.predict(X_test)\n",
    "\n",
    "# Confusion matrix\n",
    "conf_matrix = confusion_matrix(y_test, y_pred)\n",
    "print(\"Confusion Matrix:\")\n",
    "print(conf_matrix)\n",
    "\n",
    "# Accuracy\n",
    "accuracy = accuracy_score(y_test, y_pred)\n",
    "print(\"\\nAccuracy:\", accuracy)"
   ]
  },
  {
   "cell_type": "markdown",
   "metadata": {},
   "source": [
    "<h3>Part 3: Label + Caption</h3>"
   ]
  },
  {
   "cell_type": "code",
   "execution_count": 22,
   "metadata": {},
   "outputs": [
    {
     "name": "stdout",
     "output_type": "stream",
     "text": [
      "     0         1    2    3    4         5    6         7         8    \\\n",
      "0    0.0  0.000000  0.0  0.0  0.0  0.000000  0.0  0.000000  0.000000   \n",
      "1    0.0  0.000000  0.0  0.0  0.0  0.000000  0.0  0.000000  0.000000   \n",
      "2    0.0  0.000000  0.0  0.0  0.0  0.000000  0.0  0.000000  0.000000   \n",
      "3    0.0  0.000000  0.0  0.0  0.0  0.000000  0.0  0.000000  0.000000   \n",
      "4    0.0  0.000000  0.0  0.0  0.0  0.000000  0.0  0.000000  0.000000   \n",
      "..   ...       ...  ...  ...  ...       ...  ...       ...       ...   \n",
      "534  0.0  0.316672  0.0  0.0  0.0  0.000000  0.0  0.418186  0.000000   \n",
      "535  0.0  0.000000  0.0  0.0  0.0  0.000000  0.0  0.000000  0.000000   \n",
      "536  0.0  0.000000  0.0  0.0  0.0  0.295882  0.0  0.000000  0.000000   \n",
      "537  0.0  0.331162  0.0  0.0  0.0  0.000000  0.0  0.437321  0.000000   \n",
      "538  0.0  0.000000  0.0  0.0  0.0  0.000000  0.0  0.000000  0.301087   \n",
      "\n",
      "          9    ...  190  191  192  193  194  195  196  197  198       199  \n",
      "0    0.000000  ...  0.0  0.0  0.0  0.0  0.0  0.0  0.0  0.0  0.0  0.154881  \n",
      "1    0.000000  ...  0.0  0.0  0.0  0.0  0.0  0.0  0.0  0.0  0.0  0.000000  \n",
      "2    0.000000  ...  0.0  0.0  0.0  0.0  0.0  0.0  0.0  0.0  0.0  0.000000  \n",
      "3    0.000000  ...  0.0  0.0  0.0  0.0  0.0  0.0  0.0  0.0  0.0  0.000000  \n",
      "4    0.254339  ...  0.0  0.0  0.0  0.0  0.0  0.0  0.0  0.0  0.0  0.154674  \n",
      "..        ...  ...  ...  ...  ...  ...  ...  ...  ...  ...  ...       ...  \n",
      "534  0.000000  ...  0.0  0.0  0.0  0.0  0.0  0.0  0.0  0.0  0.0  0.000000  \n",
      "535  0.000000  ...  0.0  0.0  0.0  0.0  0.0  0.0  0.0  0.0  0.0  0.000000  \n",
      "536  0.000000  ...  0.0  0.0  0.0  0.0  0.0  0.0  0.0  0.0  0.0  0.000000  \n",
      "537  0.000000  ...  0.0  0.0  0.0  0.0  0.0  0.0  0.0  0.0  0.0  0.000000  \n",
      "538  0.000000  ...  0.0  0.0  0.0  0.0  0.0  0.0  0.0  0.0  0.0  0.000000  \n",
      "\n",
      "[539 rows x 200 columns]\n",
      "Confusion Matrix:\n",
      "[[36 14]\n",
      " [26 32]]\n",
      "\n",
      "Accuracy: 0.6296296296296297\n"
     ]
    }
   ],
   "source": [
    "tfidf_label = pd.DataFrame(tfidf_matrix_selected)\n",
    "tfidf_caption = pd.DataFrame(tfidf_matrix_selected2)\n",
    "\n",
    "# Concatenate horizontally\n",
    "combined_df = pd.concat([tfidf_label , tfidf_caption], axis=1)\n",
    "\n",
    "combined_df.columns = range(len(combined_df.columns))\n",
    "\n",
    "#print(combined_df)\n",
    "\n",
    "#Logistic Regrssion\n",
    "from sklearn.model_selection import train_test_split\n",
    "from sklearn.linear_model import LogisticRegression\n",
    "from sklearn.metrics import confusion_matrix, accuracy_score\n",
    "\n",
    "X_train, X_test, y_train, y_test = train_test_split(combined_df, df['engagement'].to_list(), test_size=0.2, random_state=42)\n",
    "\n",
    "model = LogisticRegression()\n",
    "model.fit(X_train, y_train)\n",
    "y_pred = model.predict(X_test)\n",
    "\n",
    "# Confusion matrix\n",
    "conf_matrix = confusion_matrix(y_test, y_pred)\n",
    "print(\"Confusion Matrix:\")\n",
    "print(conf_matrix)\n",
    "\n",
    "# Accuracy\n",
    "accuracy = accuracy_score(y_test, y_pred)\n",
    "print(\"\\nAccuracy:\", accuracy)"
   ]
  },
  {
   "cell_type": "markdown",
   "metadata": {},
   "source": [
    "**Observation**\n",
    "\n",
    "We observed lowest accuracy when using the image labels. The accuracy was highest when we ran the prediction using the image captions. When we merged both the image captions and the image labels, we observed multicolinearity in the data, where sometimes both the image labels and captions had similar or even the same words. This resulted in the model with combined labels and captions having a lower accuracy then using only the image captions."
   ]
  },
  {
   "cell_type": "markdown",
   "metadata": {},
   "source": [
    "<h2> Use LDA (Latent Dirichlet allocation) to define topic in each document </h2>"
   ]
  },
  {
   "cell_type": "code",
   "execution_count": 25,
   "metadata": {},
   "outputs": [
    {
     "name": "stdout",
     "output_type": "stream",
     "text": [
      "(0, '0.054*\"Temple\" + 0.052*\"Sky\" + 0.047*\"Plant\" + 0.045*\"Building\" + 0.045*\"Tree\" + 0.022*\"Leisure\" + 0.021*\"Landscape\" + 0.020*\"Sculpture\" + 0.020*\"City\" + 0.020*\"Grass\"')\n",
      "(1, '0.098*\"Water\" + 0.089*\"Sky\" + 0.069*\"Natural landscape\" + 0.059*\"Cloud\" + 0.047*\"Mountain\" + 0.046*\"Coastal and oceanic landforms\" + 0.045*\"Tree\" + 0.042*\"Water resources\" + 0.041*\"Plant\" + 0.041*\"Azure\"')\n",
      "(2, '0.089*\"Sky\" + 0.061*\"Cloud\" + 0.058*\"Afterglow\" + 0.053*\"Water\" + 0.050*\"Dusk\" + 0.043*\"Plant\" + 0.042*\"Nature\" + 0.039*\"Tree\" + 0.031*\"Light\" + 0.028*\"Building\"')\n",
      "{'Temple': {'Topic 0': 0.054132134, 'Topic 1': 0.000117946925, 'Topic 2': 0.00033121943}, 'Sky': {'Topic 0': 0.051891055, 'Topic 1': 0.088922516, 'Topic 2': 0.089084454}, 'Plant': {'Topic 0': 0.046811845, 'Topic 1': 0.041242354, 'Topic 2': 0.042520583}, 'Building': {'Topic 0': 0.045281008, 'Topic 1': 0.0002871806, 'Topic 2': 0.027538897}, 'Tree': {'Topic 0': 0.044910103, 'Topic 1': 0.04538644, 'Topic 2': 0.039055184}, 'Leisure': {'Topic 0': 0.022057282, 'Topic 1': 0.0072191814, 'Topic 2': 0.0008371585}, 'Landscape': {'Topic 0': 0.021103324, 'Topic 1': 0.018201148, 'Topic 2': 0.001401232}, 'Sculpture': {'Topic 0': 0.020223416, 'Topic 1': 0.000106993684, 'Topic 2': 0.0032201963}, 'City': {'Topic 0': 0.020182353, 'Topic 1': 0.00012896021, 'Topic 2': 0.00027955137}, 'Grass': {'Topic 0': 0.019573858, 'Topic 1': 0.0020895444, 'Topic 2': 0.0003883151}, 'Statue': {'Topic 0': 0.019346133, 'Topic 1': 0.00010220381, 'Topic 2': 0.0009541258}, 'World': {'Topic 0': 0.01892064, 'Topic 1': 0.002386086, 'Topic 2': 0.022766097}, 'Chinese architecture': {'Topic 0': 0.018281741, 'Topic 1': 0.000110099325, 'Topic 2': 0.00025306037}, 'Cloud': {'Topic 0': 0.017771868, 'Topic 1': 0.058588915, 'Topic 2': 0.061416656}, 'Art': {'Topic 0': 0.016307319, 'Topic 1': 0.00010329973, 'Topic 2': 0.00025142578}, 'Landmark': {'Topic 0': 0.016302716, 'Topic 1': 0.0001052892, 'Topic 2': 0.00024997458}, 'Symmetry': {'Topic 0': 0.014318429, 'Topic 1': 0.000102844184, 'Topic 2': 0.00024508487}, 'Pagoda': {'Topic 0': 0.013299182, 'Topic 1': 0.000103704544, 'Topic 2': 0.00025736584}, 'Working animal': {'Topic 0': 0.013197761, 'Topic 1': 0.00012384976, 'Topic 2': 0.00028291548}, 'Vehicle': {'Topic 0': 0.012757182, 'Topic 1': 0.013598125, 'Topic 2': 0.008342238}, 'Tire': {'Topic 0': 0.012279864, 'Topic 1': 0.00010486884, 'Topic 2': 0.0002690255}, 'Tower': {'Topic 0': 0.011430663, 'Topic 1': 0.00010672813, 'Topic 2': 0.008178971}, 'Facade': {'Topic 0': 0.0113188205, 'Topic 1': 0.0001037347, 'Topic 2': 0.0002436717}, 'Wheel': {'Topic 0': 0.010310032, 'Topic 1': 0.0001053369, 'Topic 2': 0.0002465706}, 'Wood': {'Topic 0': 0.010292205, 'Topic 1': 0.0096945735, 'Topic 2': 0.01295745}, 'Travel': {'Topic 0': 0.0101501085, 'Topic 1': 0.014071232, 'Topic 2': 0.00035423748}, 'Natural landscape': {'Topic 0': 0.009469654, 'Topic 1': 0.06882314, 'Topic 2': 0.02610146}, 'Elephant': {'Topic 0': 0.009310254, 'Topic 1': 0.00010293117, 'Topic 2': 0.0002525259}, 'Motor vehicle': {'Topic 0': 0.009274536, 'Topic 1': 0.000111253044, 'Topic 2': 0.00025858651}, 'Terrestrial animal': {'Topic 0': 0.009180345, 'Topic 1': 0.00014541755, 'Topic 2': 0.00024514992}, 'Urban design': {'Topic 0': 0.008773766, 'Topic 1': 0.0010703244, 'Topic 2': 0.0034250515}, 'Finial': {'Topic 0': 0.008046244, 'Topic 1': 0.000103406484, 'Topic 2': 0.00044431127}, 'Terrestrial plant': {'Topic 0': 0.0077875266, 'Topic 1': 0.007823582, 'Topic 2': 0.00031564748}, 'Roof': {'Topic 0': 0.0073246174, 'Topic 1': 0.000102258266, 'Topic 2': 0.0002443498}, 'Elephants and Mammoths': {'Topic 0': 0.007319572, 'Topic 1': 0.000102999096, 'Topic 2': 0.00024624166}, 'Water': {'Topic 0': 0.007163854, 'Topic 1': 0.09783452, 'Topic 2': 0.05289239}, 'Trunk': {'Topic 0': 0.0071620317, 'Topic 1': 0.00022621697, 'Topic 2': 0.00225323}, 'Tints and shades': {'Topic 0': 0.006911005, 'Topic 1': 0.00011092376, 'Topic 2': 0.0034430902}, 'House': {'Topic 0': 0.0067612836, 'Topic 1': 0.0010181025, 'Topic 2': 0.0006424848}, 'Window': {'Topic 0': 0.0065691886, 'Topic 1': 0.0001016325, 'Topic 2': 0.0007970908}, 'Car': {'Topic 0': 0.0065633776, 'Topic 1': 0.000104695384, 'Topic 2': 0.0022528898}, 'Event': {'Topic 0': 0.0063251248, 'Topic 1': 0.00010207777, 'Topic 2': 0.00024474523}, 'Font': {'Topic 0': 0.006324841, 'Topic 1': 0.0001021834, 'Topic 2': 0.0002446992}, 'African elephant': {'Topic 0': 0.006317456, 'Topic 1': 0.00010128488, 'Topic 2': 0.00025224293}, 'Mode of transport': {'Topic 0': 0.0061919186, 'Topic 1': 0.0005520431, 'Topic 2': 0.0043665315}, 'Waterway': {'Topic 0': 0.00590987, 'Topic 1': 0.00022841038, 'Topic 2': 0.00024388325}, 'Plant community': {'Topic 0': 0.0058550793, 'Topic 1': 0.004183909, 'Topic 2': 0.00026067032}, 'Adaptation': {'Topic 0': 0.005319107, 'Topic 1': 0.000104273364, 'Topic 2': 0.00024416842}, 'Monument': {'Topic 0': 0.005316107, 'Topic 1': 0.000102139216, 'Topic 2': 0.00025150547}, 'Forest': {'Topic 0': 0.0052983975, 'Topic 1': 0.00010629677, 'Topic 2': 0.0002544326}, 'Yellow': {'Topic 0': 0.0051961606, 'Topic 1': 0.000102287784, 'Topic 2': 0.0003386669}, 'Automotive lighting': {'Topic 0': 0.0050612483, 'Topic 1': 0.00010492396, 'Topic 2': 0.0011601873}, 'Market': {'Topic 0': 0.0045303195, 'Topic 1': 0.00011808363, 'Topic 2': 0.0007865078}, 'Infrastructure': {'Topic 0': 0.004399532, 'Topic 1': 0.00010149644, 'Topic 2': 0.0031102996}, 'Metal': {'Topic 0': 0.0043276944, 'Topic 1': 0.000101717815, 'Topic 2': 0.00024441406}, 'Crowd': {'Topic 0': 0.0043195705, 'Topic 1': 0.00010394785, 'Topic 2': 0.00024495568}, 'Road surface': {'Topic 0': 0.0042936867, 'Topic 1': 0.000101470396, 'Topic 2': 0.00318761}, 'Vegetation': {'Topic 0': 0.0038339656, 'Topic 1': 0.019096997, 'Topic 2': 0.0038273523}, 'Cityscape': {'Topic 0': 0.003411604, 'Topic 1': 0.00010177285, 'Topic 2': 0.0031011591}, 'Place of worship': {'Topic 0': 0.0033292805, 'Topic 1': 0.00010156656, 'Topic 2': 0.00024395407}, 'Metropolis': {'Topic 0': 0.0033291294, 'Topic 1': 0.00010176466, 'Topic 2': 0.00024359053}, 'Indian elephant': {'Topic 0': 0.003329099, 'Topic 1': 0.00010121867, 'Topic 2': 0.00024492462}, 'Metropolitan area': {'Topic 0': 0.003325202, 'Topic 1': 0.00010153232, 'Topic 2': 0.0002470073}, 'Lighting': {'Topic 0': 0.0033231243, 'Topic 1': 0.000102149264, 'Topic 2': 0.004623781}, 'Flower': {'Topic 0': 0.0033227976, 'Topic 1': 0.0015560689, 'Topic 2': 0.0004000117}, 'Fawn': {'Topic 0': 0.0033034827, 'Topic 1': 0.0001092291, 'Topic 2': 0.00024427782}, 'Line': {'Topic 0': 0.0032584297, 'Topic 1': 0.00012276528, 'Topic 2': 0.0002446418}, 'Amber': {'Topic 0': 0.0032457977, 'Topic 1': 0.00010162145, 'Topic 2': 0.0010340926}, 'Arecales': {'Topic 0': 0.0032164033, 'Topic 1': 0.009201313, 'Topic 2': 0.009823744}, 'Public space': {'Topic 0': 0.003179502, 'Topic 1': 0.000102389364, 'Topic 2': 0.0003512252}, 'Land vehicle': {'Topic 0': 0.0031493525, 'Topic 1': 0.00010380595, 'Topic 2': 0.00036983087}, 'Recreation': {'Topic 0': 0.0030376292, 'Topic 1': 0.0001893374, 'Topic 2': 0.00024536037}, 'Photograph': {'Topic 0': 0.0028389066, 'Topic 1': 0.00010642597, 'Topic 2': 0.004237349}, 'Vertebrate': {'Topic 0': 0.002734147, 'Topic 1': 0.00011108176, 'Topic 2': 0.0021141735}, 'Electricity': {'Topic 0': 0.0027128025, 'Topic 1': 0.00010294697, 'Topic 2': 0.002149366}, 'Stairs': {'Topic 0': 0.0026540817, 'Topic 1': 0.00011346466, 'Topic 2': 0.0007079627}, 'Street light': {'Topic 0': 0.0023462647, 'Topic 1': 0.00010125886, 'Topic 2': 0.00096196757}, 'Rectangle': {'Topic 0': 0.0023317146, 'Topic 1': 0.00010120525, 'Topic 2': 0.00024338377}, 'Door': {'Topic 0': 0.0023315847, 'Topic 1': 0.00010127386, 'Topic 2': 0.00024331406}, 'Tusk': {'Topic 0': 0.0023315493, 'Topic 1': 0.00010126329, 'Topic 2': 0.0002433647}, 'Historic site': {'Topic 0': 0.0023313472, 'Topic 1': 0.00010131418, 'Topic 2': 0.00024338998}, 'Pattern': {'Topic 0': 0.0023308713, 'Topic 1': 0.00010149787, 'Topic 2': 0.00024329613}, 'Electric blue': {'Topic 0': 0.002330313, 'Topic 1': 0.00010162566, 'Topic 2': 0.00024339248}, 'Pilgrimage': {'Topic 0': 0.0023298992, 'Topic 1': 0.00010178541, 'Topic 2': 0.00024331361}, 'Entertainment': {'Topic 0': 0.0023292962, 'Topic 1': 0.00010197082, 'Topic 2': 0.00024330482}, 'Flowerpot': {'Topic 0': 0.0023283884, 'Topic 1': 0.00010222756, 'Topic 2': 0.00024335037}, 'Reflection': {'Topic 0': 0.0023259772, 'Topic 1': 0.00010292154, 'Topic 2': 0.00024340622}, 'Asphalt': {'Topic 0': 0.002322971, 'Topic 1': 0.000102394726, 'Topic 2': 0.0024352034}, 'Human settlement': {'Topic 0': 0.0023214284, 'Topic 1': 0.00010244514, 'Topic 2': 0.00024790328}, 'Snout': {'Topic 0': 0.0023098376, 'Topic 1': 0.000107746135, 'Topic 2': 0.0002436052}, 'Mammal': {'Topic 0': 0.0022501983, 'Topic 1': 0.00010562974, 'Topic 2': 0.00029212906}, 'Morning': {'Topic 0': 0.0021167898, 'Topic 1': 0.0009510494, 'Topic 2': 0.0020046742}, 'Primate': {'Topic 0': 0.002024699, 'Topic 1': 0.00011509141, 'Topic 2': 0.0011632848}, 'Thoroughfare': {'Topic 0': 0.0019433768, 'Topic 1': 0.00010208875, 'Topic 2': 0.0027129608}, 'Lake': {'Topic 0': 0.0018912969, 'Topic 1': 0.025632178, 'Topic 2': 0.0012106466}, 'Meditation': {'Topic 0': 0.0018549695, 'Topic 1': 0.000101274614, 'Topic 2': 0.0013204796}, 'Track': {'Topic 0': 0.0013623575, 'Topic 1': 0.000103915925, 'Topic 2': 0.00313259}, 'Decoration': {'Topic 0': 0.0013468177, 'Topic 1': 0.00010519815, 'Topic 2': 0.00095237535}, 'Fun': {'Topic 0': 0.0013455187, 'Topic 1': 0.00040038998, 'Topic 2': 0.00024373713}, 'Eye': {'Topic 0': 0.0013365123, 'Topic 1': 0.000101305064, 'Topic 2': 0.0009693051}, 'Night': {'Topic 0': 0.0013323243, 'Topic 1': 0.00010119912, 'Topic 2': 0.00024328599}, 'Heat': {'Topic 0': 0.001332318, 'Topic 1': 0.00010120097, 'Topic 2': 0.00024328625}, 'Candle': {'Topic 0': 0.0013323174, 'Topic 1': 0.000101201345, 'Topic 2': 0.0002432858}, 'Bronze sculpture': {'Topic 0': 0.0013323153, 'Topic 1': 0.00010119904, 'Topic 2': 0.00024329274}, 'Mixed-use': {'Topic 0': 0.0013323111, 'Topic 1': 0.00010120043, 'Topic 2': 0.00024329244}, 'Religious institute': {'Topic 0': 0.0013323099, 'Topic 1': 0.00010120065, 'Topic 2': 0.00024329274}, 'Classical sculpture': {'Topic 0': 0.001332293, 'Topic 1': 0.000101202706, 'Topic 2': 0.00024330002}, 'Wall': {'Topic 0': 0.0013322757, 'Topic 1': 0.00010120294, 'Topic 2': 0.00024331198}, 'Human': {'Topic 0': 0.0013321919, 'Topic 1': 0.00010123094, 'Topic 2': 0.00024330588}, 'Sidewalk': {'Topic 0': 0.0013321725, 'Topic 1': 0.00010123638, 'Topic 2': 0.00024330693}, 'Chin': {'Topic 0': 0.0013321642, 'Topic 1': 0.00010120578, 'Topic 2': 0.00024338644}, 'Electronic instrument': {'Topic 0': 0.0013320493, 'Topic 1': 0.00010120036, 'Topic 2': 0.00024348246}, 'Games': {'Topic 0': 0.0013320402, 'Topic 1': 0.00010120323, 'Topic 2': 0.00024348212}, 'Net': {'Topic 0': 0.001332036, 'Topic 1': 0.00010120342, 'Topic 2': 0.00024348468}, 'Japanese architecture': {'Topic 0': 0.0013317348, 'Topic 1': 0.00010120146, 'Topic 2': 0.00024370982}, 'Girder bridge': {'Topic 0': 0.0013315668, 'Topic 1': 0.000101400175, 'Topic 2': 0.0002433543}, 'Circle': {'Topic 0': 0.0013313855, 'Topic 1': 0.000101477126, 'Topic 2': 0.00024330174}, 'Worship': {'Topic 0': 0.0013313779, 'Topic 1': 0.00010148147, 'Topic 2': 0.00024329695}, 'Gas': {'Topic 0': 0.0013313668, 'Topic 1': 0.00010148496, 'Topic 2': 0.00024329663}, 'Graphics': {'Topic 0': 0.0013312247, 'Topic 1': 0.000101526464, 'Topic 2': 0.00024330028}, 'Automotive tire': {'Topic 0': 0.0013311642, 'Topic 1': 0.00010153359, 'Topic 2': 0.00024332659}, 'Archaeological site': {'Topic 0': 0.0013308862, 'Topic 1': 0.00010157643, 'Topic 2': 0.00024342077}, 'Midnight': {'Topic 0': 0.001330245, 'Topic 1': 0.00010152172, 'Topic 2': 0.00024402478}, 'Darkness': {'Topic 0': 0.0013300328, 'Topic 1': 0.00010154794, 'Topic 2': 0.00024411612}, 'Shrub': {'Topic 0': 0.0013294799, 'Topic 1': 0.0001012669, 'Topic 2': 0.00024519308}, 'Spire': {'Topic 0': 0.0013265171, 'Topic 1': 0.00010283763, 'Topic 2': 0.00024354704}, 'Medieval architecture': {'Topic 0': 0.0013264938, 'Topic 1': 0.00010283706, 'Topic 2': 0.00024356549}, 'Magenta': {'Topic 0': 0.0013263616, 'Topic 1': 0.00010298502, 'Topic 2': 0.00024333537}, 'Automotive design': {'Topic 0': 0.0013263383, 'Topic 1': 0.000102557395, 'Topic 2': 0.00024437616}, 'Vehicle registration plate': {'Topic 0': 0.0013226783, 'Topic 1': 0.00010292778, 'Topic 2': 0.00024615123}, 'Marketplace': {'Topic 0': 0.0013221074, 'Topic 1': 0.00010222707, 'Topic 2': 0.00024825468}, 'Organism': {'Topic 0': 0.0013218686, 'Topic 1': 0.0004068409, 'Topic 2': 0.00024549098}, 'People': {'Topic 0': 0.0013210652, 'Topic 1': 0.000101526944, 'Topic 2': 0.00025068375}, 'Macaque': {'Topic 0': 0.0013135636, 'Topic 1': 0.000106439504, 'Topic 2': 0.00024435393}, 'Chair': {'Topic 0': 0.0013135476, 'Topic 1': 0.00010215855, 'Topic 2': 0.002442961}, 'Black': {'Topic 0': 0.001312779, 'Topic 1': 0.00010121023, 'Topic 2': 0.00025750138}, 'Artifact': {'Topic 0': 0.0013127304, 'Topic 1': 0.00010121027, 'Topic 2': 0.00025753674}, 'Liquid': {'Topic 0': 0.0013117865, 'Topic 1': 0.000103547034, 'Topic 2': 0.0002525661}, 'Palm tree': {'Topic 0': 0.0013110228, 'Topic 1': 0.000101256606, 'Topic 2': 0.00025863724}, 'Beauty': {'Topic 0': 0.001303091, 'Topic 1': 0.00010122187, 'Topic 2': 0.00026449442}, 'Grass family': {'Topic 0': 0.0012988404, 'Topic 1': 0.000109594046, 'Topic 2': 0.0002474933}, 'Furniture': {'Topic 0': 0.0012951571, 'Topic 1': 0.000104629806, 'Topic 2': 0.003909362}, 'Table': {'Topic 0': 0.0012857994, 'Topic 1': 0.000104473016, 'Topic 2': 0.004646053}, 'Walkway': {'Topic 0': 0.0012821144, 'Topic 1': 0.0001016836, 'Topic 2': 0.00027871813}, 'Spring': {'Topic 0': 0.0012695927, 'Topic 1': 0.00011998259, 'Topic 2': 0.00024365562}, 'Automotive parking light': {'Topic 0': 0.0012268014, 'Topic 1': 0.000101222155, 'Topic 2': 0.00032015156}, 'Headlamp': {'Topic 0': 0.0012267517, 'Topic 1': 0.000101219, 'Topic 2': 0.00032019537}, 'Stupa': {'Topic 0': 0.0011430086, 'Topic 1': 0.00010174862, 'Topic 2': 0.00037991916}, 'Architecture': {'Topic 0': 0.0010696732, 'Topic 1': 0.00010216435, 'Topic 2': 0.009186272}, 'Selling': {'Topic 0': 0.0010074629, 'Topic 1': 0.00020779959, 'Topic 2': 0.00095322495}, 'Natural environment': {'Topic 0': 0.00095948053, 'Topic 1': 0.0030608487, 'Topic 2': 0.0058030863}, 'Boar': {'Topic 0': 0.0009067573, 'Topic 1': 0.00023007565, 'Topic 2': 0.00024382208}, 'Sunrise': {'Topic 0': 0.00088643085, 'Topic 1': 0.000105905834, 'Topic 2': 0.010770007}, 'Blue': {'Topic 0': 0.0007800341, 'Topic 1': 0.0148262475, 'Topic 2': 0.0010012148}, 'Artificial island': {'Topic 0': 0.0006576752, 'Topic 1': 0.00030566598, 'Topic 2': 0.00024387195}, 'Water transportation': {'Topic 0': 0.0006573394, 'Topic 1': 0.00030576775, 'Topic 2': 0.00024387226}, 'Nature': {'Topic 0': 0.0006529364, 'Topic 1': 0.018819973, 'Topic 2': 0.04182973}, 'Canopy walkway': {'Topic 0': 0.00056417566, 'Topic 1': 0.0003340656, 'Topic 2': 0.00024385266}, 'Watercourse': {'Topic 0': 0.0005391324, 'Topic 1': 0.018541005, 'Topic 2': 0.00027360424}, 'Sunset': {'Topic 0': 0.00052616914, 'Topic 1': 0.00011455063, 'Topic 2': 0.0153890345}, 'Leaf': {'Topic 0': 0.000512502, 'Topic 1': 0.00094245945, 'Topic 2': 0.0061141513}, 'Boat': {'Topic 0': 0.00049970916, 'Topic 1': 0.033246744, 'Topic 2': 0.006539697}, 'White': {'Topic 0': 0.00049834145, 'Topic 1': 0.00010124634, 'Topic 2': 0.0008516474}, 'Afterglow': {'Topic 0': 0.00048578196, 'Topic 1': 0.0001444648, 'Topic 2': 0.05838589}, 'Twig': {'Topic 0': 0.00048545675, 'Topic 1': 0.00010215349, 'Topic 2': 0.0015883567}, 'Orange': {'Topic 0': 0.0004802346, 'Topic 1': 0.00010472487, 'Topic 2': 0.013987234}, 'People on beach': {'Topic 0': 0.00046233, 'Topic 1': 0.00083403353, 'Topic 2': 0.0020344509}, 'Ecoregion': {'Topic 0': 0.00044787626, 'Topic 1': 0.004712214, 'Topic 2': 0.010231947}, 'Fence': {'Topic 0': 0.00044710102, 'Topic 1': 0.00037366277, 'Topic 2': 0.000963473}, 'Dusk': {'Topic 0': 0.0004421421, 'Topic 1': 0.00011905185, 'Topic 2': 0.049725067}, 'People in nature': {'Topic 0': 0.00042996308, 'Topic 1': 0.0011632973, 'Topic 2': 0.0034552452}, 'Horizon': {'Topic 0': 0.00042407666, 'Topic 1': 0.0066262526, 'Topic 2': 0.0027313493}, 'Thatching': {'Topic 0': 0.00042110845, 'Topic 1': 0.000101293415, 'Topic 2': 0.00090792665}, 'Sunlight': {'Topic 0': 0.00042066054, 'Topic 1': 0.00023644239, 'Topic 2': 0.02319729}, 'Watercraft': {'Topic 0': 0.00041710804, 'Topic 1': 0.027362632, 'Topic 2': 0.00031615538}, 'Boats and boating--Equipment and supplies': {'Topic 0': 0.00041048136, 'Topic 1': 0.008877511, 'Topic 2': 0.00024878507}, 'Mountain': {'Topic 0': 0.00040714795, 'Topic 1': 0.047041636, 'Topic 2': 0.0004443063}, 'Sand': {'Topic 0': 0.0004024421, 'Topic 1': 0.00038307547, 'Topic 2': 0.00024414543}, 'Azure': {'Topic 0': 0.0004015198, 'Topic 1': 0.04080787, 'Topic 2': 0.0015701316}, 'Branch': {'Topic 0': 0.00040116388, 'Topic 1': 0.0014650443, 'Topic 2': 0.007857425}, 'Formation': {'Topic 0': 0.00040032557, 'Topic 1': 0.0031152898, 'Topic 2': 0.00024464016}, 'Coastal and oceanic landforms': {'Topic 0': 0.00039988576, 'Topic 1': 0.04638894, 'Topic 2': 0.00055931596}, 'Water resources': {'Topic 0': 0.00039628174, 'Topic 1': 0.041847445, 'Topic 2': 0.0005344873}, 'Biome': {'Topic 0': 0.0003961, 'Topic 1': 0.0029460685, 'Topic 2': 0.002842712}, 'Botany': {'Topic 0': 0.0003951845, 'Topic 1': 0.0045999386, 'Topic 2': 0.0003276245}, 'Body of water': {'Topic 0': 0.00038782865, 'Topic 1': 0.011448684, 'Topic 2': 0.0137817385}, 'Residential area': {'Topic 0': 0.00038148733, 'Topic 1': 0.00038946362, 'Topic 2': 0.00024410486}, 'Atmospheric phenomenon': {'Topic 0': 0.0003763746, 'Topic 1': 0.0014854334, 'Topic 2': 0.0063675614}, 'Island': {'Topic 0': 0.00037275656, 'Topic 1': 0.001302889, 'Topic 2': 0.000243695}, 'Rolling': {'Topic 0': 0.0003696537, 'Topic 1': 0.00010159729, 'Topic 2': 0.0016742821}, 'Skyscraper': {'Topic 0': 0.00036815074, 'Topic 1': 0.000102120845, 'Topic 2': 0.011886849}, 'Grassland': {'Topic 0': 0.00036700215, 'Topic 1': 0.0015083888, 'Topic 2': 0.00048337842}, 'Green': {'Topic 0': 0.0003664632, 'Topic 1': 0.009116841, 'Topic 2': 0.0004351671}, 'Red sky at morning': {'Topic 0': 0.0003647721, 'Topic 1': 0.00010849255, 'Topic 2': 0.0082266135}, 'Atmosphere': {'Topic 0': 0.00036343705, 'Topic 1': 0.00013707126, 'Topic 2': 0.02274843}, 'Dog breed': {'Topic 0': 0.00036303012, 'Topic 1': 0.00039498613, 'Topic 2': 0.00024432348}, 'Land lot': {'Topic 0': 0.00036267462, 'Topic 1': 0.00069104857, 'Topic 2': 0.00026248943}, 'Beach': {'Topic 0': 0.00036233256, 'Topic 1': 0.025314892, 'Topic 2': 0.0009006651}, 'Woody plant': {'Topic 0': 0.00035896618, 'Topic 1': 0.0031197679, 'Topic 2': 0.00026407104}, 'Interior design': {'Topic 0': 0.00035843626, 'Topic 1': 0.00010209045, 'Topic 2': 0.0016812792}, 'Light': {'Topic 0': 0.00035797976, 'Topic 1': 0.00012841831, 'Topic 2': 0.030797482}, 'Automotive exterior': {'Topic 0': 0.0003569165, 'Topic 1': 0.00010123966, 'Topic 2': 0.0009549679}, 'River island': {'Topic 0': 0.0003563461, 'Topic 1': 0.0007008376, 'Topic 2': 0.00024366034}, 'Fluvial landforms of streams': {'Topic 0': 0.0003543893, 'Topic 1': 0.004946885, 'Topic 2': 0.00025314937}, 'Bank': {'Topic 0': 0.00035370773, 'Topic 1': 0.0034282277, 'Topic 2': 0.0002560866}, 'Shade': {'Topic 0': 0.0003520384, 'Topic 1': 0.0001307479, 'Topic 2': 0.014018117}, 'Fog': {'Topic 0': 0.0003484467, 'Topic 1': 0.00011624392, 'Topic 2': 0.0031133813}, 'Rolling stock': {'Topic 0': 0.00034761426, 'Topic 1': 0.00010337299, 'Topic 2': 0.0038745664}, 'Agriculture': {'Topic 0': 0.00034696268, 'Topic 1': 0.0007036722, 'Topic 2': 0.00024370033}, 'Headland': {'Topic 0': 0.0003458208, 'Topic 1': 0.004649876, 'Topic 2': 0.00024374742}, 'Train': {'Topic 0': 0.00034579652, 'Topic 1': 0.000102986865, 'Topic 2': 0.0046063066}, 'Highland': {'Topic 0': 0.00034418525, 'Topic 1': 0.010548042, 'Topic 2': 0.00065915147}, 'Daytime': {'Topic 0': 0.0003435628, 'Topic 1': 0.004250672, 'Topic 2': 0.020900615}, 'Terrain': {'Topic 0': 0.0003423811, 'Topic 1': 0.009199913, 'Topic 2': 0.00025316956}, 'Tent': {'Topic 0': 0.0003403048, 'Topic 1': 0.00010437634, 'Topic 2': 0.0024184831}, 'Natural foods': {'Topic 0': 0.00033799835, 'Topic 1': 0.00010121927, 'Topic 2': 0.0009688577}, 'Mountainous landforms': {'Topic 0': 0.00033784535, 'Topic 1': 0.0014720665, 'Topic 2': 0.0005919919}, 'Klippe': {'Topic 0': 0.00033603434, 'Topic 1': 0.0007070451, 'Topic 2': 0.00024359429}, 'Food': {'Topic 0': 0.00033596237, 'Topic 1': 0.00010228263, 'Topic 2': 0.0016972614}, 'Bedrock': {'Topic 0': 0.00033583713, 'Topic 1': 0.0016175966, 'Topic 2': 0.00024382673}, 'Paddle': {'Topic 0': 0.00033562366, 'Topic 1': 0.0006789182, 'Topic 2': 0.0003113454}, 'Summer': {'Topic 0': 0.00033514827, 'Topic 1': 0.00021137553, 'Topic 2': 0.0014351178}, 'Slope': {'Topic 0': 0.0003350934, 'Topic 1': 0.000105309824, 'Topic 2': 0.0009610849}, 'Transport hub': {'Topic 0': 0.0003350925, 'Topic 1': 0.00010121223, 'Topic 2': 0.00097100285}, 'Condominium': {'Topic 0': 0.00033503553, 'Topic 1': 0.00010121599, 'Topic 2': 0.0017005242}, 'Tower block': {'Topic 0': 0.000335027, 'Topic 1': 0.00010137564, 'Topic 2': 0.007535986}, 'Outdoor furniture': {'Topic 0': 0.00033496605, 'Topic 1': 0.0010044244, 'Topic 2': 0.0031769227}, 'Lamp': {'Topic 0': 0.00033443488, 'Topic 1': 0.000103072634, 'Topic 2': 0.0009669682}, 'Lantern': {'Topic 0': 0.00033442627, 'Topic 1': 0.000103067345, 'Topic 2': 0.0009669873}, 'Cumulus': {'Topic 0': 0.00033437257, 'Topic 1': 0.0009965644, 'Topic 2': 0.0010078141}, 'Aqua': {'Topic 0': 0.00033433223, 'Topic 1': 0.0006768439, 'Topic 2': 0.00031728175}, 'Waterfall': {'Topic 0': 0.00033423334, 'Topic 1': 0.0012618835, 'Topic 2': 0.0003703134}, 'Cat': {'Topic 0': 0.00033419646, 'Topic 1': 0.00011982968, 'Topic 2': 0.00092666544}, 'Ship': {'Topic 0': 0.0003341937, 'Topic 1': 0.00040406652, 'Topic 2': 0.0002436016}, 'Property': {'Topic 0': 0.00033413304, 'Topic 1': 0.0001225871, 'Topic 2': 0.0052970303}, 'Underwater': {'Topic 0': 0.0003341249, 'Topic 1': 0.0004039478, 'Topic 2': 0.00024393585}, 'Diving equipment': {'Topic 0': 0.00033412286, 'Topic 1': 0.0004039925, 'Topic 2': 0.00024383045}, 'Scuba diving': {'Topic 0': 0.00033412117, 'Topic 1': 0.0004039731, 'Topic 2': 0.00024387815}, 'Dry suit': {'Topic 0': 0.00033412027, 'Topic 1': 0.0004039632, 'Topic 2': 0.00024390251}, 'Underwater diving': {'Topic 0': 0.00033411937, 'Topic 1': 0.00040399315, 'Topic 2': 0.00024383159}, 'Underwater sports': {'Topic 0': 0.0003341191, 'Topic 1': 0.0004039514, 'Topic 2': 0.00024393159}, 'Divemaster': {'Topic 0': 0.00033411713, 'Topic 1': 0.00040393873, 'Topic 2': 0.00024396335}, 'Long-tail boat': {'Topic 0': 0.00033409914, 'Topic 1': 0.0010111204, 'Topic 2': 0.00024369977}, 'Tableware': {'Topic 0': 0.00033407225, 'Topic 1': 0.00010318376, 'Topic 2': 0.00096697075}, 'Coconut': {'Topic 0': 0.00033406488, 'Topic 1': 0.001010727, 'Topic 2': 0.00024466906}, 'Wind wave': {'Topic 0': 0.00033406136, 'Topic 1': 0.0004037198, 'Topic 2': 0.00024452698}, 'Outdoor recreation': {'Topic 0': 0.00033404864, 'Topic 1': 0.0007075538, 'Topic 2': 0.00024382335}, 'Naval architecture': {'Topic 0': 0.00033404134, 'Topic 1': 0.00040409973, 'Topic 2': 0.00024363327}, 'Calm': {'Topic 0': 0.0003340411, 'Topic 1': 0.00040409816, 'Topic 2': 0.0002436373}, 'Oxbow lake': {'Topic 0': 0.00033403857, 'Topic 1': 0.00040226523, 'Topic 2': 0.00024802497}, 'Tropics': {'Topic 0': 0.00033402847, 'Topic 1': 0.0004041042, 'Topic 2': 0.0002436319}, 'Rock': {'Topic 0': 0.00033402484, 'Topic 1': 0.00040410354, 'Topic 2': 0.00024363623}, 'Ocean': {'Topic 0': 0.00033402257, 'Topic 1': 0.00040410613, 'Topic 2': 0.00024363177}, 'Algae': {'Topic 0': 0.00033401858, 'Topic 1': 0.00040410584, 'Topic 2': 0.00024363528}, 'Outdoor bench': {'Topic 0': 0.00033399186, 'Topic 1': 0.00040401015, 'Topic 2': 0.00024388303}, 'Plain': {'Topic 0': 0.00033391226, 'Topic 1': 0.0001065835, 'Topic 2': 0.00095884746}, 'Rural area': {'Topic 0': 0.00033390688, 'Topic 1': 0.00010657953, 'Topic 2': 0.00095886097}, 'Railway': {'Topic 0': 0.00033389818, 'Topic 1': 0.00010246435, 'Topic 2': 0.00096885493}, 'Freezing': {'Topic 0': 0.00033389303, 'Topic 1': 0.000105533705, 'Topic 2': 0.0016909048}, 'Bird': {'Topic 0': 0.00033388063, 'Topic 1': 0.00012070547, 'Topic 2': 0.00092492474}, 'Snow': {'Topic 0': 0.00033379337, 'Topic 1': 0.00010424056, 'Topic 2': 0.00096460804}, 'Real estate': {'Topic 0': 0.00033377772, 'Topic 1': 0.00010295156, 'Topic 2': 0.0009677436}, 'Neighbourhood': {'Topic 0': 0.00033375292, 'Topic 1': 0.00010121383, 'Topic 2': 0.000971979}, 'Bus': {'Topic 0': 0.00033373636, 'Topic 1': 0.0001012159, 'Topic 2': 0.0009719861}, 'Thunder': {'Topic 0': 0.0003336606, 'Topic 1': 0.0001029168, 'Topic 2': 0.00096791383}, 'Fluid': {'Topic 0': 0.00033365327, 'Topic 1': 0.00010294522, 'Topic 2': 0.0016973378}, 'Audio equipment': {'Topic 0': 0.00033361878, 'Topic 1': 0.000101212936, 'Topic 2': 0.0009720797}, 'Head': {'Topic 0': 0.0003336166, 'Topic 1': 0.00010121022, 'Topic 2': 0.00097208784}, 'Flash photography': {'Topic 0': 0.0003336166, 'Topic 1': 0.000101211896, 'Topic 2': 0.00097208377}, 'Leg': {'Topic 0': 0.00033361485, 'Topic 1': 0.00010121114, 'Topic 2': 0.0009720869}, 'Human body': {'Topic 0': 0.0003336142, 'Topic 1': 0.00010121239, 'Topic 2': 0.0009720843}, 'Jewellery': {'Topic 0': 0.0003336133, 'Topic 1': 0.00010121063, 'Topic 2': 0.0009720892}, 'Headgear': {'Topic 0': 0.0003336092, 'Topic 1': 0.00010121101, 'Topic 2': 0.00097209134}, 'Comfort': {'Topic 0': 0.00033358784, 'Topic 1': 0.00010121491, 'Topic 2': 0.00097209756}, 'Textile': {'Topic 0': 0.0003335855, 'Topic 1': 0.00010121279, 'Topic 2': 0.0009721044}, 'Outdoor table': {'Topic 0': 0.00033356823, 'Topic 1': 0.00010121901, 'Topic 2': 0.00097210193}}\n"
     ]
    }
   ],
   "source": [
    "from gensim import corpora\n",
    "from gensim.models import LdaModel\n",
    "import ast\n",
    "from nltk.corpus import stopwords\n",
    "\n",
    "# nltk.download('stopwords')\n",
    "stop_words = set(stopwords.words('english'))\n",
    "\n",
    "convert_to_list = []\n",
    "for label in df['label'].to_list():\n",
    "    convert_to_list.append(ast.literal_eval(label))\n",
    "\n",
    "#print(convert_to_list)\n",
    "#print(convert_to_list[0][0])\n",
    "\n",
    "# Create a document-term matrix\n",
    "dictionary = corpora.Dictionary(convert_to_list)\n",
    "corpus = [dictionary.doc2bow(text) for text in convert_to_list]\n",
    "\n",
    "# The number of topics\n",
    "num_topics = 3\n",
    "\n",
    "# Train the LDA model\n",
    "lda = LdaModel(corpus, num_topics=num_topics, id2word=dictionary, passes=15)\n",
    "\n",
    "# Visualize topics or inspect them\n",
    "topics = lda.print_topics(num_words=10)\n",
    "for topic in topics:\n",
    "    print(topic)\n",
    "\n",
    "# Display all words \n",
    "topics_data = {}\n",
    "for topic_id, topic in lda.show_topics(num_topics=num_topics, num_words=276, formatted=False):\n",
    "    words = [word for word, score in topic]\n",
    "    scores = [score for word, score in topic]\n",
    "    \n",
    "    for word, score in zip(words, scores):\n",
    "        if word in topics_data:\n",
    "            topics_data[word][f'Topic {topic_id}'] = score\n",
    "        else:\n",
    "            topics_data[word] = {f'Topic {topic_id}': score}\n",
    "\n",
    "print(topics_data)\n",
    "df_topic = pd.DataFrame.from_dict(topics_data, orient='index')\n",
    "\n",
    "# Visualize topics or inspect all the words\n",
    "df_topic.to_csv(\"topic3.csv\")\n",
    "# Display the dataframe\n",
    "#print(df_topic)"
   ]
  },
  {
   "cell_type": "markdown",
   "metadata": {},
   "source": [
    "<li>Topic 0: **Cultural Landscape** (temple, building, leisure, landscape, chinese arquitecture, city, statue, world) </li>\n",
    "<li>Topic 1: **Natural Landscape** (water, natural landscape, mountain, costal and oceanic land) </li>\n",
    "<li>Topic 2: **Atmospheric Beauty** (sky, could, afterglow, dusk, nature, light, sunlight, atmosphere, daytime, sunset, shade) </li>\n",
    "\n",
    "Note: the order of the topic can be changed if you rerun the LDA model"
   ]
  },
  {
   "cell_type": "code",
   "execution_count": 26,
   "metadata": {},
   "outputs": [
    {
     "name": "stdout",
     "output_type": "stream",
     "text": [
      "                Topic 0   Topic 1   Topic 2\n",
      "Temple         0.054132  0.000118  0.000331\n",
      "Sky            0.051891  0.088923  0.089084\n",
      "Plant          0.046812  0.041242  0.042521\n",
      "Building       0.045281  0.000287  0.027539\n",
      "Tree           0.044910  0.045386  0.039055\n",
      "...                 ...       ...       ...\n",
      "Jewellery      0.000334  0.000101  0.000972\n",
      "Headgear       0.000334  0.000101  0.000972\n",
      "Comfort        0.000334  0.000101  0.000972\n",
      "Textile        0.000334  0.000101  0.000972\n",
      "Outdoor table  0.000334  0.000101  0.000972\n",
      "\n",
      "[276 rows x 3 columns]\n"
     ]
    }
   ],
   "source": [
    "#fill nan if any\n",
    "df_topic.fillna(0, inplace = True)\n",
    "print(df_topic)"
   ]
  },
  {
   "cell_type": "code",
   "execution_count": null,
   "metadata": {},
   "outputs": [],
   "source": [
    "#calculate the score for each topic of each document\n",
    "import ast\n",
    "\n",
    "column_names = df_topic.columns\n",
    "score_list_list = []\n",
    "topic_list = []\n",
    "\n",
    "for i in df['label']:\n",
    "    label = ast.literal_eval(i)\n",
    "    score_list = []\n",
    "    #print(i)\n",
    "    score_list = []\n",
    "    for k in column_names:\n",
    "        score = 0\n",
    "        for j in label:\n",
    "            if j in df_topic.index:\n",
    "                #print(j, df_topic[k][j])\n",
    "                score += df_topic[k][j]\n",
    "        #print(k, score)\n",
    "        score_list.append(score)\n",
    "    row_score =  sum(score_list)\n",
    "    results = [number / row_score for number in score_list]    \n",
    "    score_list_list.append(results)\n",
    "#print(score_list_list)\n",
    "\n",
    "df_topic_score = pd.DataFrame(score_list_list, columns=column_names)\n",
    "#print(df['label'].shape)\n",
    "df_topic_score['label'] = df['label'].to_list()\n",
    "#print(df['like'].shape)\n",
    "df_topic_score['like'] = df['like'].to_list()\n",
    "\n",
    "df_topic_score.to_csv(\"final_score_results.csv\")"
   ]
  },
  {
   "cell_type": "code",
   "execution_count": 5,
   "metadata": {},
   "outputs": [
    {
     "name": "stdout",
     "output_type": "stream",
     "text": [
      "10576.0\n",
      "5204.0\n",
      "First Quartile Rows:\n",
      "     Unnamed: 0   Topic 0   Topic 1   Topic 2  \\\n",
      "0             0  0.182602  0.355289  0.462109   \n",
      "1             1  0.255729  0.298162  0.446110   \n",
      "2             2  0.204300  0.476428  0.319272   \n",
      "3             3  0.182602  0.355289  0.462109   \n",
      "4             4  0.071758  0.707330  0.220912   \n",
      "..          ...       ...       ...       ...   \n",
      "130         130  0.183582  0.545836  0.270582   \n",
      "131         131  0.190909  0.459441  0.349649   \n",
      "132         132  0.199303  0.434243  0.366454   \n",
      "133         133  0.139553  0.575271  0.285175   \n",
      "134         134  0.176362  0.366094  0.457544   \n",
      "\n",
      "                                                 label    like  \n",
      "0    ['Sky', 'Water', 'Boat', 'Building', 'Cloud', ...  514160  \n",
      "1    ['Cloud', 'Sky', 'Building', 'Car', 'Daytime',...   96360  \n",
      "2    ['Water', 'Sky', 'Mountain', 'Ecoregion', 'Mam...   74962  \n",
      "3    ['Water', 'Sky', 'Boat', 'Cloud', 'Building', ...   59274  \n",
      "4    ['Water', 'Water resources', 'Mountain', 'Natu...   46035  \n",
      "..                                                 ...     ...  \n",
      "130  ['Water', 'Sky', 'Water resources', 'Mountain'...   10623  \n",
      "131  ['Cloud', 'Plant', 'Atmosphere', 'Plant commun...   10604  \n",
      "132  ['Cloud', 'Sky', 'Water', 'Plant', 'Daytime', ...   10599  \n",
      "133  ['Water', 'Sky', 'Cloud', 'Water resources', '...   10587  \n",
      "134  ['Water', 'Boat', 'Plant', 'Light', 'Sky', 'Af...   10583  \n",
      "\n",
      "[135 rows x 6 columns]\n",
      "\n",
      "Last Quartile Rows:\n",
      "     Unnamed: 0   Topic 0   Topic 1   Topic 2  \\\n",
      "404         404  0.211554  0.464288  0.324159   \n",
      "403         403  0.141482  0.506791  0.351727   \n",
      "405         405  0.372385  0.313054  0.314561   \n",
      "406         406  0.143604  0.566344  0.290052   \n",
      "407         407  0.179288  0.259074  0.561638   \n",
      "..          ...       ...       ...       ...   \n",
      "534         534  0.163876  0.408878  0.427246   \n",
      "535         535  0.291892  0.441788  0.266321   \n",
      "536         536  0.476222  0.269175  0.254603   \n",
      "537         537  0.106604  0.523304  0.370092   \n",
      "538         538  0.240428  0.425017  0.334555   \n",
      "\n",
      "                                                 label  like  \n",
      "404  ['Water', 'Sky', 'Cloud', 'Plant', 'Tree', 'Na...  5204  \n",
      "403  ['Water', 'Sky', 'Plant', 'Boat', 'Nature', 'A...  5204  \n",
      "405  ['Plant', 'Sky', 'Building', 'Chinese architec...  5190  \n",
      "406  ['Cloud', 'Water', 'Sky', 'Water resources', '...  5184  \n",
      "407  ['Cloud', 'Sky', 'Skyscraper', 'Building', 'Da...  5168  \n",
      "..                                                 ...   ...  \n",
      "534  ['Cloud', 'Sky', 'Atmosphere', 'Mountain', 'Ec...  2239  \n",
      "535  ['Water', 'Building', 'Artificial island', 'La...  2037  \n",
      "536  ['Sky', 'Tree', 'Temple', 'Yellow', 'Sculpture...  1975  \n",
      "537  ['Water', 'Cloud', 'Sky', 'Atmosphere', 'Mount...  1800  \n",
      "538  ['Train', 'Sky', 'Mountain', 'Vehicle', 'Plant...  1728  \n",
      "\n",
      "[136 rows x 6 columns]\n"
     ]
    }
   ],
   "source": [
    "import pandas as pd\n",
    "df_topic_score = pd.read_csv(\"final_score_results.csv\")\n",
    "\n",
    "# Sort the DataFrame by the 'like' column\n",
    "df_sorted = df_topic_score.sort_values(by='like',ascending = False)\n",
    "\n",
    "# Calculate the first quartile (25th percentile)~Top25% and third quartile (75th percentile) values\n",
    "first_quartile_value = df_sorted['like'].quantile(0.75)\n",
    "third_quartile_value = df_sorted['like'].quantile(0.25)\n",
    "\n",
    "print(first_quartile_value)\n",
    "print(third_quartile_value)\n",
    "\n",
    "# Filter the DataFrame to get the first and last quartile rows\n",
    "first_quartile_rows = df_sorted[df_sorted['like'] >= first_quartile_value]\n",
    "last_quartile_rows = df_sorted[df_sorted['like'] <= third_quartile_value]\n",
    "\n",
    "# Display the results\n",
    "print(\"First Quartile Rows:\")\n",
    "print(first_quartile_rows)\n",
    "\n",
    "print(\"\\nLast Quartile Rows:\")\n",
    "print(last_quartile_rows)"
   ]
  },
  {
   "cell_type": "code",
   "execution_count": 6,
   "metadata": {},
   "outputs": [],
   "source": [
    "high_engagement_topic0 = first_quartile_rows['Topic 0'].mean()\n",
    "high_engagement_topic1 = first_quartile_rows['Topic 1'].mean()\n",
    "high_engagement_topic2 = first_quartile_rows['Topic 2'].mean()\n",
    "\n",
    "low_engagement_topic0 = last_quartile_rows['Topic 0'].mean()\n",
    "low_engagement_topic1 = last_quartile_rows['Topic 1'].mean()\n",
    "low_engagement_topic2 = last_quartile_rows['Topic 2'].mean()\n",
    "\n",
    "\n",
    "import pandas as pd\n",
    "\n",
    "# Sample DataFrames for first and last quartile rows\n",
    "first_quartile_data = {\n",
    "    'Topic 0': [high_engagement_topic0],\n",
    "    'Topic 1': [high_engagement_topic1],\n",
    "    'Topic 2': [high_engagement_topic2]\n",
    "}\n",
    "\n",
    "last_quartile_data = {\n",
    "    'Topic 0': [low_engagement_topic0],\n",
    "    'Topic 1': [low_engagement_topic1],\n",
    "    'Topic 2': [low_engagement_topic2]\n",
    "}\n",
    "\n",
    "# Create DataFrames for high and low averages\n",
    "high_average_df = pd.DataFrame(first_quartile_data, index=['High Average'])\n",
    "low_average_df = pd.DataFrame(last_quartile_data, index=['Low Average'])"
   ]
  },
  {
   "cell_type": "code",
   "execution_count": 9,
   "metadata": {},
   "outputs": [
    {
     "name": "stdout",
     "output_type": "stream",
     "text": [
      "      Average Type Cultural Landscape Natural Landscape Atomspheric Beauty\n",
      "0   Lower Quartile           0.248485           0.40951           0.342005\n",
      "1  Higher Quartile           0.199573          0.480028           0.320399\n"
     ]
    },
    {
     "data": {
      "text/html": [
       "<div>\n",
       "<style scoped>\n",
       "    .dataframe tbody tr th:only-of-type {\n",
       "        vertical-align: middle;\n",
       "    }\n",
       "\n",
       "    .dataframe tbody tr th {\n",
       "        vertical-align: top;\n",
       "    }\n",
       "\n",
       "    .dataframe thead th {\n",
       "        text-align: right;\n",
       "    }\n",
       "</style>\n",
       "<table border=\"1\" class=\"dataframe\">\n",
       "  <thead>\n",
       "    <tr style=\"text-align: right;\">\n",
       "      <th></th>\n",
       "      <th>Average Type</th>\n",
       "      <th>Cultural Landscape</th>\n",
       "      <th>Natural Landscape</th>\n",
       "      <th>Atomspheric Beauty</th>\n",
       "    </tr>\n",
       "  </thead>\n",
       "  <tbody>\n",
       "    <tr>\n",
       "      <th>0</th>\n",
       "      <td>Lower Quartile</td>\n",
       "      <td>0.248485</td>\n",
       "      <td>0.40951</td>\n",
       "      <td>0.342005</td>\n",
       "    </tr>\n",
       "    <tr>\n",
       "      <th>1</th>\n",
       "      <td>Higher Quartile</td>\n",
       "      <td>0.199573</td>\n",
       "      <td>0.480028</td>\n",
       "      <td>0.320399</td>\n",
       "    </tr>\n",
       "  </tbody>\n",
       "</table>\n",
       "</div>"
      ],
      "text/plain": [
       "      Average Type Cultural Landscape Natural Landscape Atomspheric Beauty\n",
       "0   Lower Quartile           0.248485           0.40951           0.342005\n",
       "1  Higher Quartile           0.199573          0.480028           0.320399"
      ]
     },
     "execution_count": 9,
     "metadata": {},
     "output_type": "execute_result"
    }
   ],
   "source": [
    "#Display a Table\n",
    "matrix=pd.DataFrame(columns=['Average Type','Cultural Landscape','Natural Landscape', 'Atomspheric Beauty'])\n",
    "matrix.reset_index()\n",
    "\n",
    "low_dict={'Average Type':'Lower Quartile','Cultural Landscape':low_average_df.to_string().split('  ')[-3:][0],'Natural Landscape':low_average_df.to_string().split('  ')[-3:][1],'Atomspheric Beauty':low_average_df.to_string().split('  ')[-3:][2]}\n",
    "\n",
    "high_dict={'Average Type':'Higher Quartile','Cultural Landscape':high_average_df.to_string().split('  ')[-3:][0],'Natural Landscape':high_average_df.to_string().split('  ')[-3:][1],'Atomspheric Beauty':high_average_df.to_string().split('  ')[-3:][2]}\n",
    "\n",
    "\n",
    "matrix=pd.concat([matrix, pd.DataFrame([low_dict])], axis=0, ignore_index=True)\n",
    "matrix=pd.concat([matrix, pd.DataFrame([high_dict])], axis=0, ignore_index=True)\n",
    "\n",
    "print(matrix)\n",
    "matrix"
   ]
  },
  {
   "cell_type": "markdown",
   "metadata": {},
   "source": [
    "<h2> Summary </h2>"
   ]
  },
  {
   "cell_type": "markdown",
   "metadata": {},
   "source": [
    "\n",
    "Based on this data we can see that in general there is a balance between topics that the Thailand Instagram account keeps more or less equal for their posts. \n",
    "\n",
    "Our first recommendation would be for Thailand Instagram to go heavier on the natural landscape related topic. Higher engagement (number of likes) posts are generally more correlated to natural landscape related topic. However, we would not recommend going too heavy on the cultural landscape, because it seems to have lower the engagement. \n",
    "\n",
    "For our second recommendation, we would suggest that this instagram account could also consider trying out going heavier on the natural landscape to see if further increasing the natural landscape will further increase engagement and try to make some differentiation on posts related to cultural topic to increase engagement level. \n",
    "\n",
    "Our third recommendation is based on our chi-squared test that we did based on the words from both the image labels and the image captions. We observed from the captions that images displaying the province of Krabi, which has beautiful beaches in Thailand, are very highly correlated to high engagement. From the image labels, we saw that images focusing on the atmosphere, flowers, or afterglow also lead to higher engagement.\n",
    "\n",
    "In conclusion, we recommend trying to balance all three topics, holding back slightly on the natural landscape, favoring the cultural landscape a bit more. To do this, we recommend focusing on the province of Krabi, as well as nearby provinces. We recommend taking pictures with more wide angles focusing on displaying the beautiful atmosphere, or taking colorful pictures highlighting the local flowers.\n",
    "\n"
   ]
  }
 ],
 "metadata": {
  "kernelspec": {
   "display_name": "Python 3",
   "language": "python",
   "name": "python3"
  },
  "language_info": {
   "codemirror_mode": {
    "name": "ipython",
    "version": 3
   },
   "file_extension": ".py",
   "mimetype": "text/x-python",
   "name": "python",
   "nbconvert_exporter": "python",
   "pygments_lexer": "ipython3",
   "version": "3.11.3"
  }
 },
 "nbformat": 4,
 "nbformat_minor": 2
}
